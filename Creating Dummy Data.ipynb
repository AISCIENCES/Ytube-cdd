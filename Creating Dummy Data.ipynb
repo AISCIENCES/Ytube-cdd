{
 "cells": [
  {
   "cell_type": "code",
   "execution_count": 1,
   "metadata": {},
   "outputs": [
    {
     "name": "stdout",
     "output_type": "stream",
     "text": [
      "Requirement already satisfied: faker in c:\\users\\mg\\anaconda3\\lib\\site-packages (13.3.2)\n",
      "Requirement already satisfied: python-dateutil>=2.4 in c:\\users\\mg\\anaconda3\\lib\\site-packages (from faker) (2.8.1)\n",
      "Requirement already satisfied: six>=1.5 in c:\\users\\mg\\anaconda3\\lib\\site-packages (from python-dateutil>=2.4->faker) (1.15.0)\n"
     ]
    }
   ],
   "source": [
    "!pip install faker"
   ]
  },
  {
   "cell_type": "code",
   "execution_count": 2,
   "metadata": {},
   "outputs": [],
   "source": [
    "from faker import Faker"
   ]
  },
  {
   "cell_type": "code",
   "execution_count": 3,
   "metadata": {},
   "outputs": [],
   "source": [
    "fake = Faker()"
   ]
  },
  {
   "cell_type": "code",
   "execution_count": 6,
   "metadata": {},
   "outputs": [
    {
     "data": {
      "text/plain": [
       "'rallen@example.net'"
      ]
     },
     "execution_count": 6,
     "metadata": {},
     "output_type": "execute_result"
    }
   ],
   "source": [
    "fake.email()"
   ]
  },
  {
   "cell_type": "code",
   "execution_count": 11,
   "metadata": {},
   "outputs": [
    {
     "data": {
      "text/plain": [
       "'Libyan Arab Jamahiriya'"
      ]
     },
     "execution_count": 11,
     "metadata": {},
     "output_type": "execute_result"
    }
   ],
   "source": [
    "fake.country()"
   ]
  },
  {
   "cell_type": "code",
   "execution_count": 14,
   "metadata": {},
   "outputs": [
    {
     "data": {
      "text/plain": [
       "'Marisa Bond'"
      ]
     },
     "execution_count": 14,
     "metadata": {},
     "output_type": "execute_result"
    }
   ],
   "source": [
    "fake.name()"
   ]
  },
  {
   "cell_type": "code",
   "execution_count": 17,
   "metadata": {},
   "outputs": [
    {
     "data": {
      "text/plain": [
       "'Success floor north sing. Know exist old couple establish worry wonder.\\nWhen air anyone. Pass meet all kitchen.'"
      ]
     },
     "execution_count": 17,
     "metadata": {},
     "output_type": "execute_result"
    }
   ],
   "source": [
    "fake.text()"
   ]
  },
  {
   "cell_type": "code",
   "execution_count": 21,
   "metadata": {},
   "outputs": [
    {
     "name": "stdout",
     "output_type": "stream",
     "text": [
      "81.469528 -145.724525\n"
     ]
    }
   ],
   "source": [
    "print(fake.latitude(), fake.longitude())"
   ]
  },
  {
   "cell_type": "code",
   "execution_count": 23,
   "metadata": {},
   "outputs": [
    {
     "data": {
      "text/plain": [
       "'https://jones.com/'"
      ]
     },
     "execution_count": 23,
     "metadata": {},
     "output_type": "execute_result"
    }
   ],
   "source": [
    "fake.url()"
   ]
  },
  {
   "cell_type": "code",
   "execution_count": 24,
   "metadata": {},
   "outputs": [
    {
     "data": {
      "text/plain": [
       "{'job': 'Personal assistant',\n",
       " 'company': 'Cook-Harrell',\n",
       " 'ssn': '270-23-3409',\n",
       " 'residence': '6224 Timothy Parkways Suite 854\\nNew Cynthiaview, AR 28260',\n",
       " 'current_location': (Decimal('-28.4608265'), Decimal('9.686492')),\n",
       " 'blood_group': 'AB+',\n",
       " 'website': ['http://www.williams.com/',\n",
       "  'https://atkinson-holder.info/',\n",
       "  'https://collins-jacobson.com/'],\n",
       " 'username': 'jerickson',\n",
       " 'name': 'Rickey Love',\n",
       " 'sex': 'M',\n",
       " 'address': '1038 Pamela Street Apt. 694\\nErinchester, WA 16172',\n",
       " 'mail': 'wkelley@yahoo.com',\n",
       " 'birthdate': datetime.date(1937, 10, 29)}"
      ]
     },
     "execution_count": 24,
     "metadata": {},
     "output_type": "execute_result"
    }
   ],
   "source": [
    "fake.profile()"
   ]
  },
  {
   "cell_type": "code",
   "execution_count": 28,
   "metadata": {},
   "outputs": [
    {
     "data": {
      "text/plain": [
       "{'job': 'Health service manager',\n",
       " 'company': 'Davis Group',\n",
       " 'ssn': '412-41-1386',\n",
       " 'residence': 'PSC 8485, Box 3726\\nAPO AP 12378',\n",
       " 'current_location': (Decimal('28.650174'), Decimal('47.871049')),\n",
       " 'blood_group': 'O+',\n",
       " 'website': ['https://www.mcdaniel.info/', 'https://holt.com/'],\n",
       " 'username': 'ylewis',\n",
       " 'name': 'Sandra Scott',\n",
       " 'sex': 'F',\n",
       " 'address': '336 Hernandez Vista Suite 728\\nLake Amyview, TX 74302',\n",
       " 'mail': 'donnafarrell@yahoo.com',\n",
       " 'birthdate': datetime.date(1932, 8, 8)}"
      ]
     },
     "execution_count": 28,
     "metadata": {},
     "output_type": "execute_result"
    }
   ],
   "source": [
    "profile = fake.profile()\n",
    "profile"
   ]
  },
  {
   "cell_type": "code",
   "execution_count": 35,
   "metadata": {},
   "outputs": [
    {
     "name": "stdout",
     "output_type": "stream",
     "text": [
      "Health service manager Davis Group\n"
     ]
    }
   ],
   "source": [
    "print(profile['job'], profile['company'])"
   ]
  },
  {
   "cell_type": "code",
   "execution_count": 36,
   "metadata": {},
   "outputs": [],
   "source": [
    "from random import randint"
   ]
  },
  {
   "cell_type": "code",
   "execution_count": 37,
   "metadata": {},
   "outputs": [],
   "source": [
    "def get_student_data(count):\n",
    "    data = {}\n",
    "    \n",
    "    for i in range(0, count):\n",
    "        data[i] = {}\n",
    "        data[i]['id'] = randint(1,100)\n",
    "        data[i]['name'] = fake.name()\n",
    "        data[i]['address'] = fake.address()\n",
    "    return data"
   ]
  },
  {
   "cell_type": "code",
   "execution_count": 38,
   "metadata": {},
   "outputs": [],
   "source": [
    "import json"
   ]
  },
  {
   "cell_type": "code",
   "execution_count": 39,
   "metadata": {},
   "outputs": [
    {
     "data": {
      "text/plain": [
       "{0: {'id': 70,\n",
       "  'name': 'Robert Tanner',\n",
       "  'address': '0175 Peterson Glen Apt. 604\\nGutierrezburgh, WY 26853'},\n",
       " 1: {'id': 76,\n",
       "  'name': 'Eric Ball',\n",
       "  'address': '6013 Amanda Common Apt. 812\\nWest Tyler, ID 23993'},\n",
       " 2: {'id': 5,\n",
       "  'name': 'Charles George',\n",
       "  'address': '2302 Jensen Lake\\nJeffreyland, HI 87843'},\n",
       " 3: {'id': 23,\n",
       "  'name': 'Tony Ramirez',\n",
       "  'address': 'Unit 3091 Box 9645\\nDPO AA 80823'},\n",
       " 4: {'id': 68,\n",
       "  'name': 'Jade Hernandez',\n",
       "  'address': '9901 Foster Plaza\\nSouth Patricia, CO 21852'},\n",
       " 5: {'id': 12,\n",
       "  'name': 'Melinda Le',\n",
       "  'address': '79948 Burton Green Apt. 067\\nPetertown, DC 75468'},\n",
       " 6: {'id': 80,\n",
       "  'name': 'Chelsea Trevino',\n",
       "  'address': '8661 Powell Circles Apt. 945\\nJudithland, MD 17106'},\n",
       " 7: {'id': 11,\n",
       "  'name': 'Jeffrey Kennedy',\n",
       "  'address': '45302 Lauren Fork Suite 415\\nSouth Devin, NH 31755'},\n",
       " 8: {'id': 6,\n",
       "  'name': 'Luke Wilson',\n",
       "  'address': '4940 Salinas Underpass\\nBryantville, SD 72620'},\n",
       " 9: {'id': 59,\n",
       "  'name': 'Alexandra Myers',\n",
       "  'address': '4148 Mccormick Mount\\nChelseaside, AL 84608'},\n",
       " 10: {'id': 96,\n",
       "  'name': 'Keith Valentine',\n",
       "  'address': '4803 Jesus Bypass Apt. 086\\nTimothyhaven, NJ 23306'},\n",
       " 11: {'id': 33,\n",
       "  'name': 'Timothy Vasquez',\n",
       "  'address': '341 James Prairie\\nAmberchester, TN 71578'},\n",
       " 12: {'id': 79,\n",
       "  'name': 'Michelle Flores',\n",
       "  'address': '52798 Watts Branch Suite 768\\nMendozastad, DC 97712'},\n",
       " 13: {'id': 76,\n",
       "  'name': 'Marcus Johnson',\n",
       "  'address': '80300 Doyle Place\\nSouth Aaron, AZ 83360'},\n",
       " 14: {'id': 9,\n",
       "  'name': 'Mathew Johnson',\n",
       "  'address': 'USNV Bartlett\\nFPO AP 52139'},\n",
       " 15: {'id': 71,\n",
       "  'name': 'Stephanie Mann',\n",
       "  'address': '3373 Fleming Junction\\nLake Gregoryborough, ME 49726'},\n",
       " 16: {'id': 27,\n",
       "  'name': 'Felicia Perry',\n",
       "  'address': '66862 Taylor Fall Apt. 730\\nJohnshire, HI 72675'},\n",
       " 17: {'id': 21,\n",
       "  'name': 'Joseph White',\n",
       "  'address': '61886 Kent Parkway\\nFordshire, AL 45407'},\n",
       " 18: {'id': 84,\n",
       "  'name': 'Jordan Hill',\n",
       "  'address': '633 David Plains\\nLarsonmouth, OR 40810'},\n",
       " 19: {'id': 20,\n",
       "  'name': 'Shaun Park',\n",
       "  'address': '592 Scott Shoal\\nMackenziemouth, OH 92782'},\n",
       " 20: {'id': 37,\n",
       "  'name': 'Amy Trujillo',\n",
       "  'address': '71181 Sharon Drive\\nMunozview, MS 69099'},\n",
       " 21: {'id': 8,\n",
       "  'name': 'David Shaw',\n",
       "  'address': '532 Sarah Gateway Apt. 484\\nJohnmouth, TN 76743'},\n",
       " 22: {'id': 93,\n",
       "  'name': 'Lauren Figueroa',\n",
       "  'address': '007 Monica Alley\\nGrantview, NH 54502'},\n",
       " 23: {'id': 7,\n",
       "  'name': 'Ronnie Allen',\n",
       "  'address': '183 Hester Roads Apt. 122\\nDarlenestad, ID 42397'},\n",
       " 24: {'id': 14,\n",
       "  'name': 'Michele Martin',\n",
       "  'address': '7509 Nguyen Inlet\\nLake Jonathan, WI 22077'},\n",
       " 25: {'id': 8,\n",
       "  'name': 'Robert Warren',\n",
       "  'address': '032 Mullen Oval Apt. 685\\nGilbertmouth, MO 14179'},\n",
       " 26: {'id': 38,\n",
       "  'name': 'Shannon Mayo',\n",
       "  'address': '5645 Jones Curve\\nWest Jonathan, MO 58354'},\n",
       " 27: {'id': 46,\n",
       "  'name': 'Ashley Stone',\n",
       "  'address': '288 Geoffrey Mount\\nZimmermanland, WV 27827'},\n",
       " 28: {'id': 84,\n",
       "  'name': 'Jon Gallegos',\n",
       "  'address': '0384 Jason Curve Suite 300\\nNorth Joseph, SC 10150'},\n",
       " 29: {'id': 61,\n",
       "  'name': 'Mr. Ronald Nelson',\n",
       "  'address': '34014 Jill Ridges\\nPort Amandafort, ND 98067'},\n",
       " 30: {'id': 61,\n",
       "  'name': 'Evan Jarvis',\n",
       "  'address': 'PSC 1577, Box 4173\\nAPO AP 60512'},\n",
       " 31: {'id': 73,\n",
       "  'name': 'Randy Taylor',\n",
       "  'address': '3486 Sandra Drive Suite 413\\nNew Stephenburgh, UT 31434'},\n",
       " 32: {'id': 70, 'name': 'Dana Cobb', 'address': 'USNV Keith\\nFPO AE 52475'},\n",
       " 33: {'id': 23,\n",
       "  'name': 'Hannah Woods',\n",
       "  'address': '9900 Sandra Crest\\nNorth Ethan, AL 95774'},\n",
       " 34: {'id': 79,\n",
       "  'name': 'Amanda Mullins',\n",
       "  'address': '695 King Flats\\nPort Maryberg, RI 60067'},\n",
       " 35: {'id': 76,\n",
       "  'name': 'Erica Adkins',\n",
       "  'address': '95568 Jones Via Suite 362\\nNavarroport, LA 92634'},\n",
       " 36: {'id': 71,\n",
       "  'name': 'Joshua Nelson',\n",
       "  'address': '655 Katherine Overpass Apt. 884\\nEast Christopherchester, MS 95850'},\n",
       " 37: {'id': 40,\n",
       "  'name': 'Leslie Valdez',\n",
       "  'address': '524 Ann Stravenue Apt. 750\\nPort Richardborough, SC 39809'},\n",
       " 38: {'id': 39,\n",
       "  'name': 'Linda Tanner',\n",
       "  'address': '94312 Sanders Tunnel\\nHartville, MD 98944'},\n",
       " 39: {'id': 49,\n",
       "  'name': 'Robert Lewis',\n",
       "  'address': '5008 Kelly Ridge\\nBranchville, WV 59417'},\n",
       " 40: {'id': 96,\n",
       "  'name': 'Carol Richard',\n",
       "  'address': '36085 Rodriguez Divide Apt. 149\\nDrakebury, WY 75965'},\n",
       " 41: {'id': 63,\n",
       "  'name': 'Steven Lynn',\n",
       "  'address': '9945 Donaldson Rapid\\nDiazfort, NH 43628'},\n",
       " 42: {'id': 35,\n",
       "  'name': 'Whitney Villanueva',\n",
       "  'address': '823 Anne Spring\\nShortside, WY 50621'},\n",
       " 43: {'id': 69,\n",
       "  'name': 'Jack Hansen MD',\n",
       "  'address': '64434 Alan Terrace\\nHollyside, CT 52858'},\n",
       " 44: {'id': 49,\n",
       "  'name': 'Chelsea Nguyen',\n",
       "  'address': '0008 Carlos Square Apt. 167\\nAndrewmouth, NY 85121'},\n",
       " 45: {'id': 3,\n",
       "  'name': 'Brittany Rhodes',\n",
       "  'address': '516 Weaver Walks Suite 284\\nNew Samuel, FL 09145'},\n",
       " 46: {'id': 32,\n",
       "  'name': 'Lisa Smith',\n",
       "  'address': '06543 Howard Circles\\nNew Kellymouth, WV 44599'},\n",
       " 47: {'id': 16,\n",
       "  'name': 'James Baker',\n",
       "  'address': '41592 Justin Circles Suite 963\\nRichardshire, MS 71820'},\n",
       " 48: {'id': 95,\n",
       "  'name': 'Charlotte Harris',\n",
       "  'address': '61951 Johnson Unions\\nSteventon, WV 07733'},\n",
       " 49: {'id': 56,\n",
       "  'name': 'Stephanie Saunders',\n",
       "  'address': '1548 Michael Loaf\\nEast Kristyside, NE 21237'},\n",
       " 50: {'id': 100,\n",
       "  'name': 'Katherine Nelson',\n",
       "  'address': '6917 Jones Islands Apt. 606\\nPort Linda, MA 02105'},\n",
       " 51: {'id': 84,\n",
       "  'name': 'Robert Lucero',\n",
       "  'address': '05605 Durham Unions\\nEast Joshuatown, AZ 77655'},\n",
       " 52: {'id': 97,\n",
       "  'name': 'Timothy Stevens',\n",
       "  'address': 'USNS West\\nFPO AA 34738'},\n",
       " 53: {'id': 19,\n",
       "  'name': 'Nathan Alvarez',\n",
       "  'address': '90605 Mercer Ranch Suite 499\\nPatriciaside, WI 22088'},\n",
       " 54: {'id': 45,\n",
       "  'name': 'Julie Bradley',\n",
       "  'address': 'Unit 7998 Box 1742\\nDPO AA 69239'},\n",
       " 55: {'id': 64,\n",
       "  'name': 'Shelly Kirby',\n",
       "  'address': 'PSC 7853, Box 0017\\nAPO AE 11241'},\n",
       " 56: {'id': 1,\n",
       "  'name': 'Scott Anderson',\n",
       "  'address': '49749 Ricky Cliff\\nSheppardborough, CT 92326'},\n",
       " 57: {'id': 13,\n",
       "  'name': 'Connie Williams',\n",
       "  'address': '80004 Gardner Keys Suite 341\\nRangelfort, KS 20895'},\n",
       " 58: {'id': 25,\n",
       "  'name': 'Michael Mcguire',\n",
       "  'address': '3794 Angela Plaza Apt. 941\\nSouth Hannah, IL 52009'},\n",
       " 59: {'id': 50,\n",
       "  'name': 'Timothy Rice',\n",
       "  'address': '42686 Long Locks\\nHeathermouth, NM 26460'},\n",
       " 60: {'id': 72,\n",
       "  'name': 'Samantha Gomez',\n",
       "  'address': 'Unit 4135 Box 3554\\nDPO AE 76250'},\n",
       " 61: {'id': 18,\n",
       "  'name': 'Jacqueline Mitchell',\n",
       "  'address': '576 Clark Stravenue\\nSaraville, MS 28163'},\n",
       " 62: {'id': 30,\n",
       "  'name': 'Justin Carr',\n",
       "  'address': 'Unit 4644 Box 0416\\nDPO AA 62044'},\n",
       " 63: {'id': 97,\n",
       "  'name': 'Scott Kidd',\n",
       "  'address': '7018 Miller Hill Apt. 604\\nLake Samanthashire, MN 30377'},\n",
       " 64: {'id': 81,\n",
       "  'name': 'Tasha Rios',\n",
       "  'address': '74864 Jenny Mall Suite 248\\nKochmouth, RI 23506'},\n",
       " 65: {'id': 24,\n",
       "  'name': 'Diane Gregory',\n",
       "  'address': '22211 Holmes Ferry Apt. 678\\nWrightfort, WA 31066'},\n",
       " 66: {'id': 77,\n",
       "  'name': 'Isabella Martinez',\n",
       "  'address': '46019 Small Landing Apt. 995\\nThomasport, NJ 23702'},\n",
       " 67: {'id': 27,\n",
       "  'name': 'Michele Fuller',\n",
       "  'address': 'USNV Jackson\\nFPO AP 62901'},\n",
       " 68: {'id': 54,\n",
       "  'name': 'Michael Washington',\n",
       "  'address': '594 Sonya Springs Apt. 517\\nBrandonstad, GA 36990'},\n",
       " 69: {'id': 52,\n",
       "  'name': 'Alexis Hernandez',\n",
       "  'address': '952 Scott Extension Suite 477\\nEast Deborah, MI 42578'},\n",
       " 70: {'id': 99,\n",
       "  'name': 'Samantha Figueroa',\n",
       "  'address': '51635 Erica Stravenue Suite 129\\nWest Robert, NM 22663'},\n",
       " 71: {'id': 27,\n",
       "  'name': 'Kristopher Kent',\n",
       "  'address': '61761 Miller Locks\\nLake Andrewmouth, OH 39644'},\n",
       " 72: {'id': 40,\n",
       "  'name': 'Richard Stokes',\n",
       "  'address': '3374 Chaney Summit\\nJamiechester, AL 60539'},\n",
       " 73: {'id': 69,\n",
       "  'name': 'Paul Moon',\n",
       "  'address': '4897 Matthew Square\\nLake Tiffany, TN 97763'},\n",
       " 74: {'id': 30,\n",
       "  'name': 'Timothy Miller',\n",
       "  'address': '32353 Stacy Grove Suite 844\\nBallstad, NM 05406'},\n",
       " 75: {'id': 100,\n",
       "  'name': 'Sabrina Wang',\n",
       "  'address': '303 Church Fork\\nEast Katrina, ME 20318'},\n",
       " 76: {'id': 19,\n",
       "  'name': 'Monica Anderson',\n",
       "  'address': '935 Nolan Ford\\nPort Jodi, AZ 74917'},\n",
       " 77: {'id': 46,\n",
       "  'name': 'Amber Gutierrez',\n",
       "  'address': 'PSC 1783, Box 0626\\nAPO AA 53485'},\n",
       " 78: {'id': 84,\n",
       "  'name': 'Duane Martin',\n",
       "  'address': '5689 Finley Point Suite 358\\nGuerrafurt, CT 59978'},\n",
       " 79: {'id': 72,\n",
       "  'name': 'Chelsey Fernandez',\n",
       "  'address': '66166 Kenneth Estate Apt. 314\\nDoughertyfort, OK 10332'},\n",
       " 80: {'id': 62,\n",
       "  'name': 'Steven Green',\n",
       "  'address': '0273 Michael Plains\\nFritzburgh, PA 41837'},\n",
       " 81: {'id': 65,\n",
       "  'name': 'Marvin Key',\n",
       "  'address': '45736 Gina Avenue Suite 306\\nPort Codyton, AL 83970'},\n",
       " 82: {'id': 35,\n",
       "  'name': 'Alicia Conley',\n",
       "  'address': '568 Martin Meadow\\nNew Toddtown, MT 89845'},\n",
       " 83: {'id': 3,\n",
       "  'name': 'Anthony Robertson',\n",
       "  'address': '387 Maldonado Rue Apt. 826\\nNorth Joseville, IL 72089'},\n",
       " 84: {'id': 73,\n",
       "  'name': 'Anthony Chavez',\n",
       "  'address': '5459 John Harbors\\nStevensbury, AZ 83610'},\n",
       " 85: {'id': 27,\n",
       "  'name': 'Emily Johnson',\n",
       "  'address': '5965 Myers Drive\\nWest Chadstad, TN 75699'},\n",
       " 86: {'id': 48,\n",
       "  'name': 'Lindsey Harris',\n",
       "  'address': '262 John Common\\nSouth Kenneth, NE 51400'},\n",
       " 87: {'id': 74,\n",
       "  'name': 'Bryan Ellison',\n",
       "  'address': '4764 Taylor Highway Apt. 993\\nAprilchester, VT 19884'},\n",
       " 88: {'id': 96,\n",
       "  'name': 'David Rodriguez',\n",
       "  'address': '798 Bond Stream\\nGonzalezchester, DC 06606'},\n",
       " 89: {'id': 28,\n",
       "  'name': 'Keith Smith',\n",
       "  'address': '6059 Taylor Station Apt. 358\\nNew Stevenbury, ME 29419'},\n",
       " 90: {'id': 23,\n",
       "  'name': 'Alyssa Silva',\n",
       "  'address': '0530 Ernest Mews\\nBlackbury, MO 62302'},\n",
       " 91: {'id': 45,\n",
       "  'name': 'Katherine Foster',\n",
       "  'address': '846 Teresa Causeway\\nWest Stephaniechester, LA 84484'},\n",
       " 92: {'id': 73,\n",
       "  'name': 'Mark Jacobs',\n",
       "  'address': '7101 Timothy Crest Apt. 439\\nLake Holly, MD 65041'},\n",
       " 93: {'id': 35,\n",
       "  'name': 'Paula Gibbs',\n",
       "  'address': '0502 Matthew Hill\\nRachelville, ID 29635'},\n",
       " 94: {'id': 53,\n",
       "  'name': 'Matthew Sanders',\n",
       "  'address': '054 Dean Wall Suite 960\\nLake Andrewburgh, WY 35540'},\n",
       " 95: {'id': 28,\n",
       "  'name': 'Rachel Smith DVM',\n",
       "  'address': '6191 Roberta Square Apt. 740\\nScottville, WI 32658'},\n",
       " 96: {'id': 19,\n",
       "  'name': 'Denise Boyd',\n",
       "  'address': '8748 Susan Groves Suite 416\\nNew Susan, OK 54846'},\n",
       " 97: {'id': 48,\n",
       "  'name': 'Alexandria Moore',\n",
       "  'address': 'Unit 2610 Box 7863\\nDPO AE 32148'},\n",
       " 98: {'id': 29,\n",
       "  'name': 'Lisa Newman',\n",
       "  'address': '1776 Melissa Square Apt. 292\\nEast Kevin, NH 36678'},\n",
       " 99: {'id': 24,\n",
       "  'name': 'Samuel Jacobs',\n",
       "  'address': '29515 Jason Forges Apt. 015\\nEast Craigchester, VA 24238'}}"
      ]
     },
     "execution_count": 39,
     "metadata": {},
     "output_type": "execute_result"
    }
   ],
   "source": [
    "data = get_student_data(100)\n",
    "data"
   ]
  },
  {
   "cell_type": "code",
   "execution_count": 40,
   "metadata": {},
   "outputs": [],
   "source": [
    "with open('students.json', 'w') as fp:\n",
    "    json.dump(data, fp, indent=4)"
   ]
  },
  {
   "cell_type": "code",
   "execution_count": null,
   "metadata": {},
   "outputs": [],
   "source": []
  }
 ],
 "metadata": {
  "kernelspec": {
   "display_name": "Python 3",
   "language": "python",
   "name": "python3"
  },
  "language_info": {
   "codemirror_mode": {
    "name": "ipython",
    "version": 3
   },
   "file_extension": ".py",
   "mimetype": "text/x-python",
   "name": "python",
   "nbconvert_exporter": "python",
   "pygments_lexer": "ipython3",
   "version": "3.8.3"
  }
 },
 "nbformat": 4,
 "nbformat_minor": 4
}
