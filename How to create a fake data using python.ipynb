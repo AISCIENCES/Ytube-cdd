{
 "cells": [
  {
   "cell_type": "code",
   "execution_count": 1,
   "metadata": {},
   "outputs": [
    {
     "name": "stdout",
     "output_type": "stream",
     "text": [
      "Collecting faker\n",
      "  Downloading Faker-13.3.2-py3-none-any.whl (1.5 MB)\n",
      "Requirement already satisfied: python-dateutil>=2.4 in c:\\users\\mg\\anaconda3\\lib\\site-packages (from faker) (2.8.1)\n",
      "Requirement already satisfied: six>=1.5 in c:\\users\\mg\\anaconda3\\lib\\site-packages (from python-dateutil>=2.4->faker) (1.15.0)\n",
      "Installing collected packages: faker\n",
      "Successfully installed faker-13.3.2\n"
     ]
    }
   ],
   "source": [
    "!pip install faker"
   ]
  },
  {
   "cell_type": "code",
   "execution_count": 2,
   "metadata": {},
   "outputs": [],
   "source": [
    "from faker import Faker"
   ]
  },
  {
   "cell_type": "code",
   "execution_count": 3,
   "metadata": {},
   "outputs": [],
   "source": [
    "fake = Faker()"
   ]
  },
  {
   "cell_type": "code",
   "execution_count": 4,
   "metadata": {},
   "outputs": [
    {
     "name": "stdout",
     "output_type": "stream",
     "text": [
      "michael10@example.com\n",
      "Venezuela\n",
      "Mariah Davis\n",
      "Fire enough look method agree it action film. Hair note make game detail. Performance might employee window institution politics expect.\n",
      "Need tough medical lose laugh. Section indeed kitchen arm.\n",
      "85.3199855 179.751530\n",
      "http://hill-parker.com/\n"
     ]
    }
   ],
   "source": [
    "print (fake.email())\n",
    "print(fake.country())\n",
    "print(fake.name())\n",
    "print(fake.text())\n",
    "print(fake.latitude(), fake.longitude())\n",
    "print(fake.url())"
   ]
  },
  {
   "cell_type": "code",
   "execution_count": null,
   "metadata": {},
   "outputs": [],
   "source": []
  },
  {
   "cell_type": "code",
   "execution_count": 25,
   "metadata": {},
   "outputs": [
    {
     "name": "stdout",
     "output_type": "stream",
     "text": [
      "{'job': 'Chartered certified accountant', 'company': 'Kim, Munoz and Thornton', 'ssn': '251-65-0711', 'residence': '3017 Wood Spur Suite 445\\nEast Heidiland, TX 51858', 'current_location': (Decimal('73.2323815'), Decimal('-25.440043')), 'blood_group': 'B-', 'website': ['https://yu-bowman.biz/', 'http://kelly.net/', 'https://www.taylor.net/'], 'username': 'harrisonmichael', 'name': 'Joseph Hayden', 'sex': 'M', 'address': '1812 Velasquez Camp Apt. 411\\nFisherborough, MI 07199', 'mail': 'nortonmorgan@yahoo.com', 'birthdate': datetime.date(1962, 2, 12)}\n"
     ]
    }
   ],
   "source": [
    "print(fake.profile())"
   ]
  },
  {
   "cell_type": "markdown",
   "metadata": {},
   "source": [
    "Create a json of 100 students with name students.json that contains student name, address, location coordinates and student roll number."
   ]
  },
  {
   "cell_type": "code",
   "execution_count": 9,
   "metadata": {},
   "outputs": [],
   "source": [
    "# For student id \n",
    "from random import randint "
   ]
  },
  {
   "cell_type": "code",
   "execution_count": 22,
   "metadata": {},
   "outputs": [],
   "source": [
    "def input_data(x): \n",
    "  \n",
    "    # dictionary \n",
    "    student_data ={} \n",
    "    for i in range(0, x): \n",
    "        student_data[i]={} \n",
    "        student_data[i]['id']= randint(1, 100) \n",
    "        student_data[i]['name']= fake.name() \n",
    "        student_data[i]['address']= fake.address() \n",
    "        student_data[i]['latitude']= str(fake.latitude()) \n",
    "        student_data[i]['longitude']= str(fake.longitude()) \n",
    "        \n",
    "    return student_data\n",
    "#     print(student_data) \n",
    "  \n",
    "    # dictionary dumped as json in a json file \n",
    "#     with open('students.json', 'w') as fp: \n",
    "#         json.dump(student_data, fp, indent= 4)"
   ]
  },
  {
   "cell_type": "code",
   "execution_count": 23,
   "metadata": {},
   "outputs": [],
   "source": [
    "import json\n",
    "number_of_students = 100\n",
    "data = input_data(number_of_students) \n",
    "# dictionary dumped as json in a json file \n",
    "with open('students.json', 'w') as fp: \n",
    "    json.dump(data, fp, indent= 4)"
   ]
  },
  {
   "cell_type": "code",
   "execution_count": null,
   "metadata": {},
   "outputs": [],
   "source": []
  }
 ],
 "metadata": {
  "kernelspec": {
   "display_name": "Python 3",
   "language": "python",
   "name": "python3"
  },
  "language_info": {
   "codemirror_mode": {
    "name": "ipython",
    "version": 3
   },
   "file_extension": ".py",
   "mimetype": "text/x-python",
   "name": "python",
   "nbconvert_exporter": "python",
   "pygments_lexer": "ipython3",
   "version": "3.8.3"
  }
 },
 "nbformat": 4,
 "nbformat_minor": 5
}
